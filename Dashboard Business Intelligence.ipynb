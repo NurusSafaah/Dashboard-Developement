{
  "nbformat": 4,
  "nbformat_minor": 0,
  "metadata": {
    "colab": {
      "provenance": []
    },
    "kernelspec": {
      "name": "python3",
      "display_name": "Python 3"
    },
    "language_info": {
      "name": "python"
    }
  },
  "cells": [
    {
      "cell_type": "code",
      "execution_count": 1,
      "metadata": {
        "colab": {
          "base_uri": "https://localhost:8080/",
          "height": 400
        },
        "id": "BL9qc6IXEZg8",
        "outputId": "fcfa4aec-33e2-4517-d1b5-ac52da9d4c3f"
      },
      "outputs": [
        {
          "output_type": "error",
          "ename": "ModuleNotFoundError",
          "evalue": "No module named 'django'",
          "traceback": [
            "\u001b[0;31m---------------------------------------------------------------------------\u001b[0m",
            "\u001b[0;31mModuleNotFoundError\u001b[0m                       Traceback (most recent call last)",
            "\u001b[0;32m/tmp/ipython-input-1-4249889557.py\u001b[0m in \u001b[0;36m<cell line: 0>\u001b[0;34m()\u001b[0m\n\u001b[0;32m----> 1\u001b[0;31m \u001b[0;32mfrom\u001b[0m \u001b[0mdjango\u001b[0m\u001b[0;34m.\u001b[0m\u001b[0mshortcuts\u001b[0m \u001b[0;32mimport\u001b[0m \u001b[0mrender\u001b[0m\u001b[0;34m\u001b[0m\u001b[0;34m\u001b[0m\u001b[0m\n\u001b[0m\u001b[1;32m      2\u001b[0m \u001b[0;32mimport\u001b[0m \u001b[0mpandas\u001b[0m \u001b[0;32mas\u001b[0m \u001b[0mpd\u001b[0m\u001b[0;34m\u001b[0m\u001b[0;34m\u001b[0m\u001b[0m\n\u001b[1;32m      3\u001b[0m \u001b[0;34m\u001b[0m\u001b[0m\n\u001b[1;32m      4\u001b[0m \u001b[0;32mdef\u001b[0m \u001b[0mdashboard_utama\u001b[0m\u001b[0;34m(\u001b[0m\u001b[0mrequest\u001b[0m\u001b[0;34m)\u001b[0m\u001b[0;34m:\u001b[0m\u001b[0;34m\u001b[0m\u001b[0;34m\u001b[0m\u001b[0m\n\u001b[1;32m      5\u001b[0m     \u001b[0;31m# Load data\u001b[0m\u001b[0;34m\u001b[0m\u001b[0;34m\u001b[0m\u001b[0m\n",
            "\u001b[0;31mModuleNotFoundError\u001b[0m: No module named 'django'",
            "",
            "\u001b[0;31m---------------------------------------------------------------------------\u001b[0;32m\nNOTE: If your import is failing due to a missing package, you can\nmanually install dependencies using either !pip or !apt.\n\nTo view examples of installing some common dependencies, click the\n\"Open Examples\" button below.\n\u001b[0;31m---------------------------------------------------------------------------\u001b[0m\n"
          ],
          "errorDetails": {
            "actions": [
              {
                "action": "open_url",
                "actionText": "Open Examples",
                "url": "/notebooks/snippets/importing_libraries.ipynb"
              }
            ]
          }
        }
      ],
      "source": [
        "from django.shortcuts import render\n",
        "import pandas as pd\n",
        "\n",
        "def dashboard_utama(request):\n",
        "    # Load data\n",
        "    df_penjualan = pd.read_csv(\"/home/arouser/project-bi-uas/airflow_etl/data_output/dwh_penjualan_detailed.csv\")\n",
        "    df_revenue = pd.read_csv(\"/home/arouser/project-bi-uas/airflow_etl/data_output/dwh_model5g_detailed.csv\")\n",
        "    df_kontribusi = pd.read_csv(\"/home/arouser/project-bi-uas/airflow_etl/data_output/dwh_kontribusi_detailed.csv\")\n",
        "\n",
        "    # Daftar opsi filter\n",
        "    region_options = sorted(df_penjualan['provinsi'].dropna().unique())\n",
        "    tahun_options = sorted(df_penjualan['tahun'].dropna().unique())\n",
        "\n",
        "    # Ambil filter dari parameter GET\n",
        "    selected_region = request.GET.get('region', 'Semua')\n",
        "    selected_year = request.GET.get('tahun', 'Semua')\n",
        "\n",
        "    # Fungsi filter\n",
        "    def apply_filter(df):\n",
        "        if selected_region != 'Semua':\n",
        "            df = df[df['provinsi'] == selected_region]\n",
        "        if selected_year != 'Semua':\n",
        "            df = df[df['tahun'] == int(selected_year)]\n",
        "        return df\n",
        "\n",
        "    # Filter data\n",
        "    df_penjualan_filtered = apply_filter(df_penjualan)\n",
        "    df_revenue_filtered = apply_filter(df_revenue)\n",
        "    df_kontribusi_filtered = apply_filter(df_kontribusi)\n",
        "\n",
        "    # === Grafik Penjualan (Star Schema 1) ===\n",
        "    chart_penjualan = {\n",
        "        \"labels\": list(df_penjualan_filtered['nama_produk']),\n",
        "        \"actual\": list(df_penjualan_filtered['qty']),\n",
        "    }\n",
        "\n",
        "    # === Grafik Revenue Produk 5G (Star Schema 2) ===\n",
        "    df_revenue_5g = df_revenue_filtered[df_revenue_filtered['fitur_5G'] == True]\n",
        "    chart_revenue = {\n",
        "        \"labels\": list(df_revenue_5g['nama_produk']),\n",
        "        \"revenue\": list(df_revenue_5g['revenue_bersih']),\n",
        "    }\n",
        "\n",
        "    # === Grafik Kontribusi Wilayah (Star Schema 3) ===\n",
        "    df_kontribusi_wilayah = df_kontribusi_filtered.groupby(\"provinsi\")[\"total_qty\"].sum().reset_index()\n",
        "    chart_kontribusi = {\n",
        "        \"labels\": list(df_kontribusi_wilayah[\"provinsi\"]),\n",
        "        \"qty\": list(df_kontribusi_wilayah[\"total_qty\"]),\n",
        "    }\n",
        "\n",
        "    return render(request, \"dashboard.html\", {\n",
        "        \"region_options\": ['Semua'] + region_options,\n",
        "        \"tahun_options\": ['Semua'] + [str(t) for t in tahun_options],\n",
        "        \"selected_region\": selected_region,\n",
        "        \"selected_year\": selected_year,\n",
        "        \"chart_penjualan\": chart_penjualan,\n",
        "        \"chart_revenue\": chart_revenue,\n",
        "        \"chart_kontribusi\": chart_kontribusi,\n",
        "    })"
      ]
    }
  ]
}